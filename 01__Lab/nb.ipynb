{
 "cells": [
  {
   "cell_type": "markdown",
   "metadata": {},
   "source": [
    "### Виконуємо першу програму ітеративно у комірках Python Jupyter Notebook\n",
    ">Ця комірка належить до Markdown, а наступні вже будуть з кодом Python"
   ]
  },
  {
   "cell_type": "markdown",
   "metadata": {},
   "source": [
    "- наступна клітинка це імпорти бібліотек (Python):"
   ]
  },
  {
   "cell_type": "code",
   "execution_count": 1,
   "metadata": {},
   "outputs": [],
   "source": [
    "from datetime import datetime\n",
    "from time import time, sleep"
   ]
  },
  {
   "cell_type": "markdown",
   "metadata": {},
   "source": [
    "- наступна клітинка задає змінні:"
   ]
  },
  {
   "cell_type": "code",
   "execution_count": 2,
   "metadata": {},
   "outputs": [],
   "source": [
    "name = \"Nazar\"\n",
    "location = \"Lviv\"\n",
    "sleep_time = 8"
   ]
  },
  {
   "cell_type": "markdown",
   "metadata": {},
   "source": [
    "- наступна клітина буде виводити текст:"
   ]
  },
  {
   "cell_type": "code",
   "execution_count": 3,
   "metadata": {},
   "outputs": [
    {
     "name": "stdout",
     "output_type": "stream",
     "text": [
      "Nazar start programming at 2023-11-26 18:03:50.405314. Lviv is the best city!\n",
      "Програма буде спати 8 секунд\n",
      "Програма виконувалась 8.0024254322052 сек (і ми забираємо 8 сек які програма спала): 0.0024254322052001953 сек.\n"
     ]
    }
   ],
   "source": [
    "start = time()\n",
    "print(f\"{name} start programming at {datetime.now()}. {location} is the best city!\")\n",
    "print(f\"Програма буде спати {sleep_time} секунд\")\n",
    "sleep(sleep_time)\n",
    "end = time()\n",
    "print(f\"Програма виконувалась {end - start} сек (і ми забираємо {sleep_time} сек які програма спала): {end - start - sleep_time} сек.\")"
   ]
  }
 ],
 "metadata": {
  "kernelspec": {
   "display_name": "Python 3",
   "language": "python",
   "name": "python3"
  },
  "language_info": {
   "codemirror_mode": {
    "name": "ipython",
    "version": 3
   },
   "file_extension": ".py",
   "mimetype": "text/x-python",
   "name": "python",
   "nbconvert_exporter": "python",
   "pygments_lexer": "ipython3",
   "version": "3.11.5"
  },
  "orig_nbformat": 4
 },
 "nbformat": 4,
 "nbformat_minor": 2
}
