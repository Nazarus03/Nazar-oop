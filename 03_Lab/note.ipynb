{
 "cells": [
  {
   "cell_type": "markdown",
   "metadata": {},
   "source": [
    "# Основи ООП\n",
    "### Вступ, порівняння"
   ]
  },
  {
   "cell_type": "code",
   "execution_count": 4,
   "metadata": {},
   "outputs": [
    {
     "name": "stdout",
     "output_type": "stream",
     "text": [
      "['Це', 'стрічка.']\n",
      "Ілона має домашнього улюбленця Собака\n",
      "Назар має домашнього улюбленця Собака і кіт\n",
      "Надія має домашнього улюбленця Рибки\n",
      "Ілона має домашнього улюбленця ['Собаку']\n",
      "Назар має домашнього улюбленця ['Кіт', 'Собака']\n",
      "Данило немає тваринок.\n"
     ]
    }
   ],
   "source": [
    "s = str(\"Це стрічка.\")\n",
    "for i in [s.split()]:\n",
    "    print(i)\n",
    "# Якщо у нас є якийсь набір даних які потрібно між собою звязати\n",
    "name = [\"Ілона\", \"Назар\", \"Надія\"]\n",
    "pets = [\"Собака\", \"Собака і кіт\", \"Рибки\"]\n",
    "\n",
    "for i in range(len(name)):\n",
    "    print(f\"{name[i]} має домашнього улюбленця {pets[i]}\")\n",
    "\n",
    "# А як зробити відповідність якщо потрібно звязати один до декількох?\n",
    "# можемо піти дуже складним шляхом та застосовувати словники\n",
    "who_has_pets = {\"Ілона\": [\"Собаку\"], \"Назар\": [\"Кіт\", \"Собака\"], \"Данило\": None}\n",
    "for name in who_has_pets.keys():\n",
    "    if who_has_pets[name]:\n",
    "        print(f\"{name} має домашнього улюбленця {who_has_pets[name]}\")\n",
    "    else:\n",
    "        print(f\"{name} немає тваринок.\")"
   ]
  },
  {
   "cell_type": "code",
   "execution_count": 7,
   "metadata": {},
   "outputs": [
    {
     "name": "stdout",
     "output_type": "stream",
     "text": [
      "<__main__.WhoHasPets object at 0x000002A5C8DD6B50>\n",
      "Володимир Л має домашнього улюбленця ['Кіт', 'Собака']. Тваринки мають вік {'Кіт': 4, 'Собака': 3}\n"
     ]
    }
   ],
   "source": [
    "# ООП дозволяє створити новий тип даних описавши його властивості та поведінку\n",
    "class WhoHasPets():\n",
    "    pass\n",
    "\n",
    "a = WhoHasPets()\n",
    "a.name = \"Володимир\"\n",
    "a.surname = \"Л\"\n",
    "a.pets = [\"Кіт\", \"Собака\"]\n",
    "a.pets_age = {\"Кіт\": 4, \"Собака\": 3}\n",
    "\n",
    "print(a)\n",
    "\n",
    "print(f\"{a.name} {a.surname} має домашнього улюбленця {a.pets}. Тваринки мають вік {a.pets_age}\")"
   ]
  }
 ],
 "metadata": {
  "kernelspec": {
   "display_name": "Python 3",
   "language": "python",
   "name": "python3"
  },
  "language_info": {
   "codemirror_mode": {
    "name": "ipython",
    "version": 3
   },
   "file_extension": ".py",
   "mimetype": "text/x-python",
   "name": "python",
   "nbconvert_exporter": "python",
   "pygments_lexer": "ipython3",
   "version": "3.11.5"
  }
 },
 "nbformat": 4,
 "nbformat_minor": 2
}
